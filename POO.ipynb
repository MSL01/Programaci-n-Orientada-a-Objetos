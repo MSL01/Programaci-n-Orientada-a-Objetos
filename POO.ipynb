{
 "cells": [
  {
   "cell_type": "markdown",
   "source": [
    "<center>\n",
    "<h1>MODULO 1. INTRODUCCIÓN A LA PROGRAMACIÓN ORIENTADA A OBJETOS</h1>\n",
    "</center>"
   ],
   "metadata": {
    "collapsed": false
   }
  },
  {
   "cell_type": "markdown",
   "source": [
    "<center>\n",
    "<h2 style=\"color:yellow;\">Introducción a la POO y sus principios básicos</h2>\n",
    "</center>"
   ],
   "metadata": {
    "collapsed": false
   }
  },
  {
   "cell_type": "markdown",
   "source": [
    "<p>La programación estructurada se basa en la idea de dividir el código en estructuras lógicas más pequeñas y bien definidas; este utiliza estructuras de control como secuencias, bucles y condicionales para la organización del código. Sin embargo, es difícil entender y actualizar un programa que consiste en una gran colección de funciones o estructuras de control.</p>\n",
    "\n",
    "<p>\n",
    "La programación orientada a objetos (POO) proporciona una forma más estructurada y modular de desarrollar software. Permite agrupar datos y comportamientos relacionados en objetos, lo que facilita la comprensión y el mantenimiento del código.\n",
    "</p>\n",
    "<p>La POO se basa en la idea de organizar el código alrededor de objetos, que son instancias de clases. Los objetos encapsulan datos y comportamiento relacionados (atributos y métodos), esto permite modelar conceptos del mundo real de forma más natural. La POO se centra en la interacción y relación entre objetos.\n",
    "</p>\n",
    "<p>La POO tiene cuatro principios fundamentales:\n",
    "</p>\n",
    "<p>- Encapsulamiento. </p>\n",
    "<p>- Herencia. </p>\n",
    "<p>- Polimorfismo. </p>\n",
    "<p>- Abstracción. </p>\n",
    "</p>"
   ],
   "metadata": {
    "collapsed": false
   }
  },
  {
   "cell_type": "markdown",
   "source": [
    "<center>\n",
    "<h2 style=\"color:yellow;\">Clases y objetos en Python</h2>\n",
    "</center>"
   ],
   "metadata": {
    "collapsed": false
   }
  },
  {
   "cell_type": "markdown",
   "source": [
    "<p>Una clase describe un conjunto de objetos con el mismo comportamiento. Cada clase define un especifico conjunto de métodos que se pueden usar con sus objetos.\n",
    "\n",
    "Dentro de una clase se pueden definir métodos; estos métodos son funciones que pueden acceder a los atributos. Dentro de una clase, los métodos pueden acceder a otros métodos dentro de la clase con la referencia <b>self</b>.\n",
    "\n",
    "Por convención, las variables de instancia en Python comienzan por un guion bajo para indicar que deberían ser privadas.</p>"
   ],
   "metadata": {
    "collapsed": false
   }
  },
  {
   "cell_type": "code",
   "execution_count": 5,
   "outputs": [
    {
     "name": "stdout",
     "output_type": "stream",
     "text": [
      "Hola Mundo\n"
     ]
    }
   ],
   "source": [
    "class Mi_Primera_Clase:\n",
    "    def metodo1(self, texto):\n",
    "        with open('mi_file.txt', 'w') as document:\n",
    "            document.write(texto)\n",
    "            document.close()\n",
    "\n",
    "    def metodo2(self):\n",
    "        with open('mi_file.txt', 'r') as document:\n",
    "            print(document.read())\n",
    "            document.close()\n",
    "\n",
    "def main():\n",
    "    text = 'Hola Mundo'\n",
    "    clase = Mi_Primera_Clase()\n",
    "    clase.metodo1(text)\n",
    "    clase.metodo2()\n",
    "\n",
    "if __name__ == '__main__':\n",
    "    main()"
   ],
   "metadata": {
    "collapsed": false,
    "ExecuteTime": {
     "end_time": "2023-06-08T20:48:11.553053234Z",
     "start_time": "2023-06-08T20:48:11.473305247Z"
    }
   }
  },
  {
   "cell_type": "markdown",
   "source": [
    "<center>\n",
    "<h2 style=\"color:yellow;\">Atributos y metodos en una clase</h2>\n",
    "</center>"
   ],
   "metadata": {
    "collapsed": false
   }
  },
  {
   "cell_type": "markdown",
   "source": [
    "<p>Las clases nos permiten definir objetos con características y comportamientos específicos, entre estos podemos encontrar los atributos y los métodos como comportamientos clave de una clase.</p>\n",
    "\n",
    "<p><h3 style=\"color:red;\">Atributos:</h3> Son variables que pertenecen a una clase y representan las características o propiedades de los objetos creados a partir de esa clase.</p>\n",
    "\n",
    "<p><h3 style=\"color:red;\">Métodos:</h3> Los métodos son funciones definidas dentro de la clase que definen el comportamiento de los objetos de esa clase, pueden acceder y manipular los atributos de la clase.</p>\n",
    "\n"
   ],
   "metadata": {
    "collapsed": false
   }
  },
  {
   "cell_type": "code",
   "execution_count": 3,
   "outputs": [],
   "source": [
    "class Mi_clase:\n",
    "    def suma(self, a, b):\n",
    "        return a + b\n",
    "\n",
    "    def mult(self, a, b):\n",
    "        return a * b"
   ],
   "metadata": {
    "collapsed": false,
    "ExecuteTime": {
     "end_time": "2023-06-10T22:10:53.818757397Z",
     "start_time": "2023-06-10T22:10:53.770771081Z"
    }
   }
  },
  {
   "cell_type": "code",
   "execution_count": 5,
   "outputs": [],
   "source": [
    "mi_clase = Mi_clase()"
   ],
   "metadata": {
    "collapsed": false,
    "ExecuteTime": {
     "end_time": "2023-06-10T22:11:02.782697861Z",
     "start_time": "2023-06-10T22:11:02.734744243Z"
    }
   }
  },
  {
   "cell_type": "code",
   "execution_count": 6,
   "outputs": [
    {
     "data": {
      "text/plain": "10"
     },
     "execution_count": 6,
     "metadata": {},
     "output_type": "execute_result"
    }
   ],
   "source": [
    "mi_clase.suma(5, 5)"
   ],
   "metadata": {
    "collapsed": false,
    "ExecuteTime": {
     "end_time": "2023-06-10T22:11:20.401069918Z",
     "start_time": "2023-06-10T22:11:20.286339155Z"
    }
   }
  },
  {
   "cell_type": "code",
   "execution_count": 7,
   "outputs": [
    {
     "data": {
      "text/plain": "25"
     },
     "execution_count": 7,
     "metadata": {},
     "output_type": "execute_result"
    }
   ],
   "source": [
    "mi_clase.mult(5, 5)"
   ],
   "metadata": {
    "collapsed": false,
    "ExecuteTime": {
     "end_time": "2023-06-10T22:11:21.019005735Z",
     "start_time": "2023-06-10T22:11:20.980691768Z"
    }
   }
  },
  {
   "cell_type": "markdown",
   "source": [
    "<center>\n",
    "<h2 style=\"color:yellow;\">Instanciación y constructor</h2>\n",
    "</center>"
   ],
   "metadata": {
    "collapsed": false
   }
  },
  {
   "cell_type": "markdown",
   "source": [
    "<p><b>Instanciación:</b> Se refiere a crear un objeto especifico a partir de una clase. Cuando se instancia una clase, se reserva espacio en la memoria para almacenar el objeto y se inicializan sus atributos. La instancia tiene acceso a los atributos y métodos definidos en la clase.</p>\n",
    "\n",
    "<p>Las variables de instancia son parte de los detalles de implementación que deberían ocultarse al usuario de la clase. Una variable de instancia debería ser accedida únicamente por los métodos de su propia clase. El lenguaje Python no impone esta restricción. Sin embargo, el guion bajo indica a los usuarios de la clase que no deberían acceder directamente a las variables de instancia. Cada objeto de una clase tiene su propio conjunto de variables de instancia.</p>\n",
    "\n",
    "<p><b>Constructor:</b> Define e inicializa variables de instancia de un objeto. Es un método especial que se llama automáticamente durante el proceso de instanciación.</p>\n",
    "<p>En Python se implementa el método especial \"__init__\" para el constructor debido a que su propósito es inicializar una instancia de la clase. </p>\n"
   ],
   "metadata": {
    "collapsed": false
   }
  },
  {
   "cell_type": "markdown",
   "source": [
    "<center><h2>CONSTRUCTORES Y DESTRUCTORES</h2></center>"
   ],
   "metadata": {
    "collapsed": false
   }
  },
  {
   "cell_type": "markdown",
   "source": [
    "<p>Se refieren a métodos especiales que se implementan para inicializar y liberar recursos de un objeto; estos métodos se denominan __init__ y __del__"
   ],
   "metadata": {
    "collapsed": false
   }
  },
  {
   "cell_type": "markdown",
   "source": [
    "<center>\n",
    "<h2 style=\"color:yellow;\">El método __init__</h2>\n",
    "</center>\n",
    "\n",
    "<p>El constructor __init__ se implementa para inicializar un objeto y realizar configuración necesaria.</p>"
   ],
   "metadata": {
    "collapsed": false
   }
  },
  {
   "cell_type": "code",
   "execution_count": 4,
   "outputs": [
    {
     "data": {
      "text/plain": "'Hola a todos'"
     },
     "execution_count": 4,
     "metadata": {},
     "output_type": "execute_result"
    }
   ],
   "source": [
    "class MiNuevaClase:\n",
    "    def __init__(self, entrada1, entrada2): # Parametros de entrada\n",
    "        self._priemra = entrada1 # Variable de instancia\n",
    "        self._segunda = entrada2 # Variable de instancia\n",
    "\n",
    "    def display(self):\n",
    "        return self._priemra + \" \" + self._segunda\n",
    "\n",
    "objeto = MiNuevaClase('Hola', 'a todos') # Se crea una instancia de la clase y se llama al constructor.\n",
    "objeto.display()"
   ],
   "metadata": {
    "collapsed": false,
    "ExecuteTime": {
     "end_time": "2023-06-11T23:26:35.353843393Z",
     "start_time": "2023-06-11T23:26:35.268717113Z"
    }
   }
  },
  {
   "cell_type": "markdown",
   "source": [
    "<center>\n",
    "<h2 style=\"color:yellow;\">El método __del__</h2>\n",
    "</center>\n",
    "\n",
    "<p>Se implementa para liberar los recursos o realizar cualquier acción de limpieza antes de que un objeto sea eliminado.</p>"
   ],
   "metadata": {
    "collapsed": false
   }
  },
  {
   "cell_type": "code",
   "execution_count": null,
   "outputs": [],
   "source": [
    "class OtraClase:\n",
    "    def __del__(self):\n",
    "        pass\n",
    "\n",
    "objeto = OtraClase()\n",
    "del objeto"
   ],
   "metadata": {
    "collapsed": false,
    "ExecuteTime": {
     "end_time": "2023-06-11T23:08:43.900016515Z",
     "start_time": "2023-06-11T23:08:43.898971437Z"
    }
   }
  },
  {
   "cell_type": "code",
   "execution_count": 5,
   "outputs": [
    {
     "name": "stdout",
     "output_type": "stream",
     "text": [
      "El objeto Miguel ha sido eliminado\n"
     ]
    }
   ],
   "source": [
    "# Ejemplo __init__ y __del__\n",
    "class MiClase:\n",
    "    def __init__(self, nombre):\n",
    "        self.nombre = nombre\n",
    "\n",
    "    def __del__(self):\n",
    "        print(f\"El objeto {self.nombre} ha sido eliminado\")\n",
    "\n",
    "objeto = MiClase(\"Miguel\")\n",
    "\n",
    "del objeto"
   ],
   "metadata": {
    "collapsed": false,
    "ExecuteTime": {
     "end_time": "2023-06-11T23:32:34.963644555Z",
     "start_time": "2023-06-11T23:32:34.912710580Z"
    }
   }
  },
  {
   "cell_type": "markdown",
   "source": [
    "<center>\n",
    "<h2 style=\"color:yellow;\">Herencia y Polimorfismo</h2>\n",
    "</center>"
   ],
   "metadata": {
    "collapsed": false
   }
  },
  {
   "cell_type": "markdown",
   "source": [
    "<p><h3 style=\"color:red;\">Herencia: </h3>Es la relación entre una clase más general (superclase) y una más especializada (subclase). La subclase hereda datos y comportamientos de la superclase.</p>\n"
   ],
   "metadata": {
    "collapsed": false
   }
  },
  {
   "cell_type": "code",
   "execution_count": 1,
   "outputs": [],
   "source": [
    "class Examen:\n",
    "    def __init__(self):\n",
    "        self._pregunta = \"\"\n",
    "        self._respuesta = \"\"\n",
    "    def setText(self, preguntas):\n",
    "        self._pregunta = preguntas\n",
    "    def setAnswer(self, respuestaBien):\n",
    "        self._respuesta = respuestaBien\n",
    "    def check(self, response):\n",
    "        return response == self._respuesta\n",
    "    def display(self):\n",
    "        print(self._pregunta)"
   ],
   "metadata": {
    "collapsed": false,
    "ExecuteTime": {
     "end_time": "2023-06-12T03:11:35.826561368Z",
     "start_time": "2023-06-12T03:11:35.822077016Z"
    }
   }
  },
  {
   "cell_type": "markdown",
   "source": [
    "<h1>DEMO 1"
   ],
   "metadata": {
    "collapsed": false
   }
  },
  {
   "cell_type": "code",
   "execution_count": 2,
   "outputs": [
    {
     "name": "stdout",
     "output_type": "stream",
     "text": [
      "Cual es la raiz cuadrada de 25?\n",
      "True\n"
     ]
    }
   ],
   "source": [
    "examen = Examen()\n",
    "examen.setText('Cual es la raiz cuadrada de 25?')\n",
    "examen.setAnswer(\"5\")\n",
    "\n",
    "examen.display()\n",
    "response = input(\"Ingrese respuesta: \")\n",
    "print(examen.check(response))"
   ],
   "metadata": {
    "collapsed": false,
    "ExecuteTime": {
     "end_time": "2023-06-12T03:11:39.102082951Z",
     "start_time": "2023-06-12T03:11:35.825034235Z"
    }
   }
  },
  {
   "cell_type": "markdown",
   "source": [],
   "metadata": {
    "collapsed": false
   }
  },
  {
   "cell_type": "code",
   "execution_count": 7,
   "outputs": [],
   "source": [
    "class SeleccionExamen(Examen):\n",
    "    def __init__(self):\n",
    "        super().__init__()\n",
    "        self._selecciones = []\n",
    "\n",
    "    def agregarOpcion(self, opcion, correcto):\n",
    "        self._selecciones.append(opcion)\n",
    "        if correcto:\n",
    "            choiseString = str(len(self._selecciones))\n",
    "            self.setAnswer(choiseString)\n",
    "\n",
    "    def display(self):\n",
    "        super().display()\n",
    "        for i in range(len(self._selecciones)):\n",
    "            choiceNumber = i + 1\n",
    "            print(f\"{choiceNumber} {self._selecciones[i]}\")"
   ],
   "metadata": {
    "collapsed": false,
    "ExecuteTime": {
     "end_time": "2023-06-12T03:12:40.725499891Z",
     "start_time": "2023-06-12T03:12:40.656547587Z"
    }
   }
  },
  {
   "cell_type": "markdown",
   "source": [
    "<h1>DEMO 2"
   ],
   "metadata": {
    "collapsed": false
   }
  },
  {
   "cell_type": "code",
   "execution_count": 8,
   "outputs": [],
   "source": [
    "def ingresePregunta(pregunta):\n",
    "    pregunta.display()\n",
    "    response = input(\"Ingrese respuesta: \")\n",
    "    print(pregunta.check(response))\n"
   ],
   "metadata": {
    "collapsed": false,
    "ExecuteTime": {
     "end_time": "2023-06-12T03:12:41.790697812Z",
     "start_time": "2023-06-12T03:12:41.742995450Z"
    }
   }
  },
  {
   "cell_type": "code",
   "execution_count": null,
   "outputs": [],
   "source": [
    "first = SeleccionExamen()\n",
    "first.setText(\"En que año empezó la segunda guerra mundial\")\n",
    "first.agregarOpcion(\"1939\", True)\n",
    "first.agregarOpcion(\"1914\", False)\n",
    "first.agregarOpcion(\"1926\", False)\n",
    "first.agregarOpcion(\"1986\", False)\n",
    "\n",
    "second = SeleccionExamen()\n",
    "second.setText(\"En que país se fundó Google\")\n",
    "second.agregarOpcion(\"Argentina\", False)\n",
    "second.agregarOpcion(\"Canada\", False)\n",
    "second.agregarOpcion(\"Estados Unidos\", True)\n",
    "second.agregarOpcion(\"Rusia\", False)\n",
    "\n",
    "ingresePregunta(first)\n",
    "ingresePregunta(second)"
   ],
   "metadata": {
    "collapsed": false,
    "is_executing": true
   }
  },
  {
   "cell_type": "markdown",
   "source": [
    "<h3 style=\"color:red;\">Polimorfismo: </h3> <p>Hace referencia a la capacidad de objetos de diferentes clases de responder a una misma interfaz de manera diferente. El polimorfismo permite escribir código más genérico y flexible, ya que se puede tratar a diferentes objetos de manera uniforme sin preocuparse por su tipo específico. Esto facilita la extensibilidad y la modificación del código sin afectar otras partes del programa.\n",
    "\n",
    " Nos permite tratar objetos de diferentes clases de manera uniforme. El polimorfismo permite tratar objetos de diferentes clases de manera uniforme y ejecutar comportamientos específicos de cada clase.  </p>"
   ],
   "metadata": {
    "collapsed": false
   }
  },
  {
   "cell_type": "code",
   "execution_count": 12,
   "outputs": [],
   "source": [
    "def preguntaActual(respuesta):\n",
    "    respuesta.display()\n",
    "    response = input(\"Ingrese respuesta: \")\n",
    "    print(respuesta.check(response))"
   ],
   "metadata": {
    "collapsed": false,
    "ExecuteTime": {
     "end_time": "2023-06-12T03:16:22.170804011Z",
     "start_time": "2023-06-12T03:16:22.100377068Z"
    }
   }
  },
  {
   "cell_type": "code",
   "execution_count": 13,
   "outputs": [
    {
     "name": "stdout",
     "output_type": "stream",
     "text": [
      "Cuanto es 2 + 2?\n",
      "True\n",
      "En que país nació Tesla\n",
      "1 Australia\n",
      "2 Canada\n",
      "3 Estados Unidos\n",
      "4 Holanda\n",
      "True\n"
     ]
    }
   ],
   "source": [
    "first = Examen()\n",
    "first.setText(\"Cuanto es 2 + 2?\")\n",
    "first.setAnswer(\"4\")\n",
    "\n",
    "second = SeleccionExamen()\n",
    "second.setText(\"En que país nació Tesla\")\n",
    "second.agregarOpcion(\"Australia\", False)\n",
    "second.agregarOpcion(\"Canada\", False)\n",
    "second.agregarOpcion(\"Estados Unidos\", True)\n",
    "second.agregarOpcion(\"Holanda\", False)\n",
    "\n",
    "preguntaActual(first)\n",
    "preguntaActual(second)"
   ],
   "metadata": {
    "collapsed": false,
    "ExecuteTime": {
     "end_time": "2023-06-12T03:16:30.316768596Z",
     "start_time": "2023-06-12T03:16:22.751424777Z"
    }
   }
  },
  {
   "cell_type": "markdown",
   "source": [
    "<center>\n",
    "<h1>MODULO 2. ENCAPSULAMIENTO Y ABSTRACCIÓN</h1>\n",
    "</center>"
   ],
   "metadata": {
    "collapsed": false
   }
  },
  {
   "cell_type": "markdown",
   "source": [
    "<center>\n",
    "<h2 style=\"color:yellow;\">Encapsulamiento y acceso a atributos y métodos</h2>\n",
    "</center>\n",
    "\n",
    "<h3 style=\"color:red;\">Encapsulamiento: </h3><p>Se trata de ocultar los detalles internos de un objeto. Esto significa que los atributos y métodos internos de un objeto se mantienen privados y no se pueden acceder directamente desde fuera de la clase.</p>\n",
    "<h3 style=\"color:red;\">Acceso a atributos y métodos: </h3><p>En este caso, los metodos de una clase pueden ser: publicos, protegidos o privados.</p>"
   ],
   "metadata": {
    "collapsed": false
   }
  },
  {
   "cell_type": "code",
   "execution_count": null,
   "outputs": [],
   "source": [
    "#Atributos y metodos publicos:\n",
    "\n",
    "class Prueba1:\n",
    "    def metodo_publico(self):\n",
    "        return self._mi_metodo == 'Hola Mundo'"
   ],
   "metadata": {
    "collapsed": false
   }
  },
  {
   "cell_type": "code",
   "execution_count": null,
   "outputs": [],
   "source": [
    "#Atributos y metodos protegidos\n",
    "class Prueba2:\n",
    "    def __init__(self):\n",
    "        return self._mi_metodo_protegido == 'Hola protegido'\n",
    "    def _metodo_protegido(self):\n",
    "        pass"
   ],
   "metadata": {
    "collapsed": false
   }
  },
  {
   "cell_type": "code",
   "execution_count": null,
   "outputs": [],
   "source": [
    "#Atributos y metodos privados\n",
    "class Prueba3:\n",
    "    def __init__(self):\n",
    "        return self._mi_metodo_privado == 'Hola privado'\n",
    "    def __metodo_privado(self):\n",
    "        pass"
   ],
   "metadata": {
    "collapsed": false
   }
  },
  {
   "cell_type": "markdown",
   "source": [],
   "metadata": {
    "collapsed": false
   }
  },
  {
   "cell_type": "markdown",
   "source": [
    "<center>\n",
    "<h2 style=\"color:yellow;\">Propiedades y decoradores</h2>\n",
    "</center>\n",
    "\n",
    "<h3 style=\"color:red;\">Propiedades: </h3><p>Son metodos especiales que permiten acceder y modificar los atributos de una clase.</p>\n"
   ],
   "metadata": {
    "collapsed": false
   }
  },
  {
   "cell_type": "code",
   "execution_count": 8,
   "outputs": [],
   "source": [
    "import math\n",
    "class Areas:\n",
    "    def __init__(self, r):\n",
    "        self._radio = r\n",
    "\n",
    "    @property\n",
    "    def radio(self):\n",
    "        return self._radio\n",
    "\n",
    "    @radio.setter\n",
    "    def area(self, valor):\n",
    "        if valor > 0:\n",
    "            self._radio = valor\n",
    "        else:\n",
    "            raise ValueError(\"Ingrese un valor positivo\")\n",
    "    @property\n",
    "    def area(self):\n",
    "        return math.pi*self._radio**2"
   ],
   "metadata": {
    "collapsed": false,
    "ExecuteTime": {
     "end_time": "2023-06-10T22:19:05.877185929Z",
     "start_time": "2023-06-10T22:19:05.817995177Z"
    }
   }
  },
  {
   "cell_type": "code",
   "execution_count": 10,
   "outputs": [],
   "source": [
    "area_circulo = Areas(5)"
   ],
   "metadata": {
    "collapsed": false,
    "ExecuteTime": {
     "end_time": "2023-06-10T22:19:44.079834500Z",
     "start_time": "2023-06-10T22:19:43.992420730Z"
    }
   }
  },
  {
   "cell_type": "code",
   "execution_count": 11,
   "outputs": [
    {
     "data": {
      "text/plain": "5"
     },
     "execution_count": 11,
     "metadata": {},
     "output_type": "execute_result"
    }
   ],
   "source": [
    "area_circulo.radio"
   ],
   "metadata": {
    "collapsed": false,
    "ExecuteTime": {
     "end_time": "2023-06-10T22:19:49.504941526Z",
     "start_time": "2023-06-10T22:19:49.467391601Z"
    }
   }
  },
  {
   "cell_type": "code",
   "execution_count": 12,
   "outputs": [
    {
     "data": {
      "text/plain": "78.53981633974483"
     },
     "execution_count": 12,
     "metadata": {},
     "output_type": "execute_result"
    }
   ],
   "source": [
    "area_circulo.area"
   ],
   "metadata": {
    "collapsed": false,
    "ExecuteTime": {
     "end_time": "2023-06-10T22:20:01.338314065Z",
     "start_time": "2023-06-10T22:20:01.206229586Z"
    }
   }
  },
  {
   "cell_type": "markdown",
   "source": [
    "<h3 style=\"color:red;\">Decoradores: </h3><p>Son funciones especiales que se utilizan para modificar o extender el comportamiento de una función o clase sin modificar su código fuente original.</p>"
   ],
   "metadata": {
    "collapsed": false
   }
  },
  {
   "cell_type": "code",
   "execution_count": 26,
   "outputs": [
    {
     "name": "stdout",
     "output_type": "stream",
     "text": [
      "El area del circulo es:\n",
      "78.53981633974483\n",
      "Programa terminado\n"
     ]
    }
   ],
   "source": [
    "import math\n",
    "def calculo(funcion):\n",
    "    def area_circulo():\n",
    "        print(\"El area del circulo es:\")\n",
    "        funcion(5)\n",
    "        print(\"Programa terminado\")\n",
    "    return area_circulo()\n",
    "\n",
    "@calculo\n",
    "def area(valor):\n",
    "    print(math.pi*valor**2)\n",
    "\n",
    "area"
   ],
   "metadata": {
    "collapsed": false,
    "ExecuteTime": {
     "end_time": "2023-06-10T22:30:00.878634784Z",
     "start_time": "2023-06-10T22:30:00.860530983Z"
    }
   }
  },
  {
   "cell_type": "markdown",
   "source": [
    "<center>\n",
    "<h2 style=\"color:yellow;\">Abstracción y clases abstractas</h2>\n",
    "</center>\n",
    "\n",
    "<p>Las clases abstractas son clases que no pueden ser instanciadas directamente, sino que se utilizan como plantillas o superclases para otras clases. Estos permiten definir una estructura común y obligan a las subclases a proporcionar una implementación específica. Estas abstracciones ayudan a garantizar la coherencia y el cumplimiento de la lógica de diseño en la jerarquía de clases.</p>"
   ],
   "metadata": {
    "collapsed": false
   }
  },
  {
   "cell_type": "code",
   "execution_count": 1,
   "outputs": [
    {
     "name": "stdout",
     "output_type": "stream",
     "text": [
      "25\n",
      "20\n",
      "28.27431\n",
      "18.849539999999998\n"
     ]
    }
   ],
   "source": [
    "from abc import ABC, abstractmethod\n",
    "class Figura(ABC):\n",
    "    @abstractmethod\n",
    "    def area(self):\n",
    "        pass\n",
    "\n",
    "    @abstractmethod\n",
    "    def perimetro(self):\n",
    "        pass\n",
    "\n",
    "class Cuadrado(Figura):\n",
    "    def __init__(self, lado):\n",
    "        self.lado = lado\n",
    "\n",
    "    def area(self):\n",
    "        return self.lado**2\n",
    "\n",
    "    def perimetro(self):\n",
    "        return 4 * self.lado\n",
    "\n",
    "class Circulo(Figura):\n",
    "    def __init__(self, radio):\n",
    "        self.radio = radio\n",
    "\n",
    "    def area(self):\n",
    "        return 3.14159 * self.radio**2\n",
    "\n",
    "    def perimetro(self):\n",
    "        return 2 * 3.14159 * self.radio\n",
    "\n",
    "# No se puede instanciar una clase abstracta\n",
    "# figura = Figura()  # Genera una excepción TypeError\n",
    "\n",
    "# Crear objetos de las subclases\n",
    "cuadrado = Cuadrado(5)\n",
    "circulo = Circulo(3)\n",
    "\n",
    "# Llamar a los métodos definidos en la clase abstracta\n",
    "print(cuadrado.area())  # Salida: 25\n",
    "print(cuadrado.perimetro())  # Salida: 20\n",
    "\n",
    "print(circulo.area())  # Salida: 28.27431\n",
    "print(circulo.perimetro())  # Salida: 18.84954\n"
   ],
   "metadata": {
    "collapsed": false,
    "ExecuteTime": {
     "end_time": "2023-06-10T21:33:30.742172411Z",
     "start_time": "2023-06-10T21:33:30.702902199Z"
    }
   }
  },
  {
   "cell_type": "markdown",
   "source": [
    "<center>\n",
    "<h2 style=\"color:yellow;\">Interfaces y herencia múltiple</h2>\n",
    "</center>\n",
    "\n",
    "<h3 style=\"color:red\";>Interfaces:</h3> <p>Hace referencia a la forma de definir un conjunto de metodos que una clase debe implementar. <strong>Python no proporciona una construcción de lenguaje especifica para las interfaces.</strong></p>\n",
    "\n",
    "<h3 style=\"color:red\";>Herencia múltiple:</h3> <p>Es la capacidad de una clase de heredar caracteristicas y comportamientos de multiples clases base.</p>"
   ],
   "metadata": {
    "collapsed": false
   }
  },
  {
   "cell_type": "code",
   "execution_count": null,
   "outputs": [],
   "source": [
    "from abc import ABC, abstractmethod\n",
    "class InterfaceI(ABC):\n",
    "    def suma(self):\n",
    "        pass\n",
    "    def resta(self):\n",
    "        pass\n",
    "    def multi(self):\n",
    "        pass\n",
    "class InterfaceII(ABC):\n",
    "    def area(self):\n",
    "        pass\n",
    "    def volumen(self):\n",
    "        pass\n",
    "\n",
    "class MiClase(InterfaceI, InterfaceII):\n",
    "    def suma(self):\n",
    "        print(\"Implementación de la suma\")\n",
    "\n",
    "    def area(self):\n",
    "        print(\"Implementación de calculo de volumen\")\n"
   ],
   "metadata": {
    "collapsed": false
   }
  },
  {
   "cell_type": "markdown",
   "source": [],
   "metadata": {
    "collapsed": false
   }
  },
  {
   "cell_type": "markdown",
   "source": [
    "<center>\n",
    "<h1>MODULO 3. RELACIONES ENTRE OBJETOS.</h1>\n",
    "</center>"
   ],
   "metadata": {
    "collapsed": false
   }
  },
  {
   "cell_type": "markdown",
   "source": [
    "<center>\n",
    "<h2 style=\"color:yellow;\">Asociación y composición</h2>\n",
    "</center>\n",
    "\n",
    "<h3 style=\"color:red;\">Asociación: </h3><p>Se trata de la relación entre dos o más clases.</p>\n",
    "<h3 style=\"color:red;\">Composición: </h3><p>Es una relación más fuerte entre dos clases en donde una clase es parte de la otra y no puede existir sin ella. La clase que contiene a la otra se denomina clase compuesta y la clase contenida se denomina clase componente. La clase compuesta controla el ciclo de vida de la clase componente y puede acceder y utilizar sus métodos y atributos.</p>"
   ],
   "metadata": {
    "collapsed": false
   }
  },
  {
   "cell_type": "code",
   "execution_count": 16,
   "outputs": [
    {
     "name": "stdout",
     "output_type": "stream",
     "text": [
      "Perro\n"
     ]
    }
   ],
   "source": [
    "# Ejemplo de Asociación:\n",
    "\n",
    "class AnimalTipo:\n",
    "    def __init__(self, tipo_animal):\n",
    "        self.tipo_animal = tipo_animal\n",
    "\n",
    "class AnimalNombre:\n",
    "    def __init__(self, nombre, tipo_animal):\n",
    "        self.nombre = nombre\n",
    "        self.tipo_animal = tipo_animal\n",
    "\n",
    "# Crear objetos con las clases asociadas.\n",
    "tipo = AnimalTipo('Perro')\n",
    "nombre = AnimalNombre('Zeus', tipo) # Asociamos nombre con el objeto de la clase AnimalTipo\n",
    "\n",
    "print(nombre.tipo_animal.tipo_animal) # Llamamos el objeto de la clase AnimalNombre que tiene asociada\n",
    "                                      # la clase AnimalTipo"
   ],
   "metadata": {
    "collapsed": false,
    "ExecuteTime": {
     "end_time": "2023-06-12T01:47:27.804827701Z",
     "start_time": "2023-06-12T01:47:27.699627321Z"
    }
   }
  },
  {
   "cell_type": "code",
   "execution_count": 17,
   "outputs": [
    {
     "name": "stdout",
     "output_type": "stream",
     "text": [
      "Encendiendo el auto Ford\n",
      "Arrancando el motor\n"
     ]
    }
   ],
   "source": [
    "class Motor:\n",
    "    def __init__(self, tipo):\n",
    "        self.tipo = tipo\n",
    "\n",
    "    def arrancar(self):\n",
    "        print(\"Arrancando el motor\")\n",
    "\n",
    "class Auto:\n",
    "    def __init__(self, marca, motor):\n",
    "        self.marca = marca\n",
    "        self.motor = motor\n",
    "\n",
    "    def encender(self):\n",
    "        print(f\"Encendiendo el auto {self.marca}\")\n",
    "        self.motor.arrancar()\n",
    "\n",
    "# Crear objetos de las clases compuestas y componentes\n",
    "motor_auto = Motor(\"Diesel\")\n",
    "auto = Auto(\"Ford\", motor_auto)\n",
    "\n",
    "# Encender el auto, lo que encenderá el motor\n",
    "auto.encender()"
   ],
   "metadata": {
    "collapsed": false,
    "ExecuteTime": {
     "end_time": "2023-06-12T02:04:09.695575380Z",
     "start_time": "2023-06-12T02:04:09.641045225Z"
    }
   }
  },
  {
   "cell_type": "markdown",
   "source": [
    "<center>\n",
    "<h2 style=\"color:yellow;\">Agregación y dependencia</h2>\n",
    "</center>\n",
    "\n",
    "<h3 style=\"color:red;\">Agregación: </h3><p>En este caso, una clase puede tener una referencia de otra clase, pero en este caso, la otra clase puede ser totalmente independiente de la otra clase.</p>\n",
    "<h3 style=\"color:red;\">Dependencia: </h3><p>En este caso, una clase depende de otra clase, pero no hay una relación fuerte o una referencia directa entre ellas.</p>"
   ],
   "metadata": {
    "collapsed": false
   }
  },
  {
   "cell_type": "code",
   "execution_count": 22,
   "outputs": [
    {
     "name": "stdout",
     "output_type": "stream",
     "text": [
      "Carlos\n",
      "Juan\n"
     ]
    }
   ],
   "source": [
    "# Ejemplo de agregación:\n",
    "\n",
    "class Estudiante:\n",
    "    def __init__(self, nombre):\n",
    "        self.nombre = nombre\n",
    "\n",
    "class Clase:\n",
    "    def __init__(self, nombre):\n",
    "        self.nombre = nombre\n",
    "        self.estudiantes = []\n",
    "\n",
    "    def agregar_estudiante(self, estudiante):\n",
    "        self.estudiantes.append(estudiante)\n",
    "\n",
    "persona1 = Estudiante(\"Carlos\")\n",
    "persona2 = Estudiante(\"Juan\")\n",
    "clase = Clase(\"Matematicas\")\n",
    "\n",
    "clase.agregar_estudiante(persona1)\n",
    "clase.agregar_estudiante(persona2)\n",
    "\n",
    "for estudiante in clase.estudiantes:\n",
    "    print(estudiante.nombre)"
   ],
   "metadata": {
    "collapsed": false,
    "ExecuteTime": {
     "end_time": "2023-06-12T02:19:00.948422353Z",
     "start_time": "2023-06-12T02:19:00.824479963Z"
    }
   }
  },
  {
   "cell_type": "code",
   "execution_count": 19,
   "outputs": [
    {
     "name": "stdout",
     "output_type": "stream",
     "text": [
      "Mensaje enviado a Carlos: Hola carlos\n"
     ]
    }
   ],
   "source": [
    "# Ejemplo de dependencia:\n",
    "\n",
    "class Mensaje:\n",
    "    def enviar(self, destino, mensaje):\n",
    "        print(f\"Mensaje enviado a {destino}: {mensaje}\")\n",
    "\n",
    "class Persona:\n",
    "    def __init__(self, correo):\n",
    "        self.correo = correo\n",
    "\n",
    "    def enviar_correo(self, destino, mensaje):\n",
    "        self.correo.enviar(destino, mensaje)\n",
    "\n",
    "correo = Mensaje()\n",
    "cliente = Persona(correo)\n",
    "\n",
    "cliente.enviar_correo('Carlos', 'Hola carlos')\n"
   ],
   "metadata": {
    "collapsed": false,
    "ExecuteTime": {
     "end_time": "2023-06-12T02:14:39.913771420Z",
     "start_time": "2023-06-12T02:14:39.835452285Z"
    }
   }
  },
  {
   "cell_type": "markdown",
   "source": [
    "<center>\n",
    "<h2 style=\"color:yellow;\">Relaciones uno a uno, uno a muchos y muchos a muchos</h2>\n",
    "</center>\n",
    "\n",
    "<h3 style=\"color:red;\">Relaciones uno a uno: </h3><p>En este caso, una instancia de una clase se relaciona solo con una instancia de otra clase y viceversa.</p>\n",
    "<h3 style=\"color:red;\">Relaciones uno a muchos: </h3><p>En este caso, una instancia de una clase se relaciona con varias instancias de otra clase, pero cada instancia de la otra clase se relaciona unicamente con una instancia de la primera.</p>\n",
    "<h3 style=\"color:red;\">Relaciones muchos a muchos: </h3><p>En este caso, varias instancias de una clase se relacionan con varias instancias de otra clase y ambas clases tienen una relación de varios a varios entre sí.</p>"
   ],
   "metadata": {
    "collapsed": false
   }
  },
  {
   "cell_type": "code",
   "execution_count": 14,
   "outputs": [
    {
     "name": "stdout",
     "output_type": "stream",
     "text": [
      "A123456\n",
      "Juan\n"
     ]
    }
   ],
   "source": [
    "# Ejemplo de relaciones uno a uno\n",
    "class Persona:\n",
    "    def __init__(self, nombre):\n",
    "        self.nombre = nombre\n",
    "        self.pasaporte = None\n",
    "\n",
    "    def asignar_pasaporte(self, pasaporte):\n",
    "        self.pasaporte = pasaporte\n",
    "\n",
    "class Pasaporte:\n",
    "    def __init__(self, numero):\n",
    "        self.numero = numero\n",
    "        self.propietario = None\n",
    "\n",
    "    def asignar_propietario(self, persona):\n",
    "        self.propietario = persona\n",
    "\n",
    "# Crear objetos de las clases relacionadas\n",
    "persona = Persona(\"Juan\")\n",
    "pasaporte = Pasaporte(\"A123456\")\n",
    "\n",
    "# Establecer la relación uno a uno\n",
    "persona.asignar_pasaporte(pasaporte)\n",
    "pasaporte.asignar_propietario(persona)\n",
    "\n",
    "# Acceder a los datos relacionados\n",
    "print(persona.pasaporte.numero)\n",
    "print(pasaporte.propietario.nombre)"
   ],
   "metadata": {
    "collapsed": false,
    "ExecuteTime": {
     "end_time": "2023-06-12T03:44:16.004305444Z",
     "start_time": "2023-06-12T03:44:15.900822769Z"
    }
   }
  },
  {
   "cell_type": "code",
   "execution_count": 15,
   "outputs": [
    {
     "name": "stdout",
     "output_type": "stream",
     "text": [
      "Python 101\n",
      "Juan Pérez\n"
     ]
    }
   ],
   "source": [
    "# Ejemplo de relaciones uno a muchos\n",
    "\n",
    "class Autor:\n",
    "    def __init__(self, nombre):\n",
    "        self.nombre = nombre\n",
    "        self.libros = []\n",
    "\n",
    "    def agregar_libro(self, libro):\n",
    "        self.libros.append(libro)\n",
    "\n",
    "class Libro:\n",
    "    def __init__(self, titulo):\n",
    "        self.titulo = titulo\n",
    "        self.autor = None\n",
    "\n",
    "    def asignar_autor(self, autor):\n",
    "        self.autor = autor\n",
    "\n",
    "# Crear objetos de las clases relacionadas\n",
    "autor = Autor(\"Juan Pérez\")\n",
    "libro1 = Libro(\"Python 101\")\n",
    "libro2 = Libro(\"Data Science Fundamentals\")\n",
    "\n",
    "# Establecer la relación uno a muchos\n",
    "autor.agregar_libro(libro1)\n",
    "autor.agregar_libro(libro2)\n",
    "\n",
    "libro1.asignar_autor(autor)\n",
    "libro2.asignar_autor(autor)\n",
    "\n",
    "# Acceder a los datos relacionados\n",
    "print(autor.libros[0].titulo)\n",
    "print(libro2.autor.nombre)"
   ],
   "metadata": {
    "collapsed": false,
    "ExecuteTime": {
     "end_time": "2023-06-12T03:44:41.790182822Z",
     "start_time": "2023-06-12T03:44:41.723346130Z"
    }
   }
  },
  {
   "cell_type": "code",
   "execution_count": 16,
   "outputs": [
    {
     "name": "stdout",
     "output_type": "stream",
     "text": [
      "Matemáticas\n",
      "Juan\n"
     ]
    }
   ],
   "source": [
    "# Ejemplo de relaciones muchos a muchos\n",
    "\n",
    "class Estudiante:\n",
    "    def __init__(self, nombre):\n",
    "        self.nombre = nombre\n",
    "        self.cursos = []\n",
    "\n",
    "    def matricular_curso(self, curso):\n",
    "        self.cursos.append(curso)\n",
    "        curso.estudiantes.append(self)\n",
    "\n",
    "class Curso:\n",
    "    def __init__(self, nombre):\n",
    "        self.nombre = nombre\n",
    "        self.estudiantes = []\n",
    "\n",
    "    def agregar_estudiante(self, estudiante):\n",
    "        self.estudiantes.append(estudiante)\n",
    "        estudiante.cursos.append(self)\n",
    "\n",
    "# Crear objetos de las clases relacionadas\n",
    "estudiante1 = Estudiante(\"Juan\")\n",
    "estudiante2 = Estudiante(\"María\")\n",
    "curso1 = Curso(\"Matemáticas\")\n",
    "curso2 = Curso(\"Historia\")\n",
    "\n",
    "# Establecer la relación muchos a muchos\n",
    "estudiante1.matricular_curso(curso1)\n",
    "estudiante1.matricular_curso(curso2)\n",
    "estudiante2.matricular_curso(curso1)\n",
    "\n",
    "# Acceder a los datos relacionados\n",
    "print(estudiante1.cursos[0].nombre)\n",
    "print(curso2.estudiantes[0].nombre)"
   ],
   "metadata": {
    "collapsed": false,
    "ExecuteTime": {
     "end_time": "2023-06-12T03:45:16.761086690Z",
     "start_time": "2023-06-12T03:45:16.572509093Z"
    }
   }
  },
  {
   "cell_type": "markdown",
   "source": [
    "<center>\n",
    "<h2 style=\"color:yellow;\">Navegación entre objetos y referencias</h2>\n",
    "</center>\n",
    "\n",
    "<h3 style=\"color:red;\">Navegación entre objetos: </h3><p>Hace referencia a la capacidad de acceder y manipular objetos.</p>\n",
    "<h3 style=\"color:red;\">Referencias: </h3><p>Las referencias son enlaces o punteros que establecen la relación entre los objetos en la memoria. Cuando se crea un objeto y se asigna a una variable, la variable contiene una referencia al objeto en lugar de los datos reales del objeto. Las referencias permiten acceder y manipular el objeto a través de la variable.</p>"
   ],
   "metadata": {
    "collapsed": false
   }
  },
  {
   "cell_type": "code",
   "execution_count": 17,
   "outputs": [
    {
     "name": "stdout",
     "output_type": "stream",
     "text": [
      "A123456\n",
      "Juan\n"
     ]
    }
   ],
   "source": [
    "# Ejemplo Navegación entre objetos\n",
    "\n",
    "\"\"\"Partimos del ejemplo de asignación de pasaportes a X persona\"\"\"\n",
    "\n",
    "\"\"\"Navegación entre Objeetos\"\"\"\n",
    "\n",
    "print(persona.pasaporte.numero)\n",
    "print(pasaporte.propietario.nombre)"
   ],
   "metadata": {
    "collapsed": false,
    "ExecuteTime": {
     "end_time": "2023-06-12T03:46:56.452430830Z",
     "start_time": "2023-06-12T03:46:56.428111242Z"
    }
   }
  },
  {
   "cell_type": "code",
   "execution_count": 19,
   "outputs": [
    {
     "name": "stdout",
     "output_type": "stream",
     "text": [
      "Juan\n",
      "Juan\n",
      "Miguel\n",
      "Miguel\n"
     ]
    }
   ],
   "source": [
    "# Ejemplo Referencias\n",
    "\"\"\"Creamos los objetos y asignamos las referencias\"\"\"\n",
    "persona1 = Persona(\"Juan\")\n",
    "persona2 = persona1\n",
    "\n",
    "\n",
    "\"\"\"Accedemos a los atributos a través de las referencias\"\"\"\n",
    "\n",
    "print(persona1.nombre)\n",
    "print(persona2.nombre)\n",
    "\n",
    "\"\"\"Modificamos el atributo a través de la referencia\"\"\"\n",
    "\n",
    "persona2.nombre = \"Miguel\"\n",
    "\n",
    "print(persona1.nombre)\n",
    "print(persona2.nombre)"
   ],
   "metadata": {
    "collapsed": false,
    "ExecuteTime": {
     "end_time": "2023-06-12T03:50:18.245858148Z",
     "start_time": "2023-06-12T03:50:18.224226030Z"
    }
   }
  },
  {
   "cell_type": "markdown",
   "source": [
    "<center>\n",
    "<h1>MODULO 4. PRINCIPIOS AVANZADOS DE LA POO</h1>\n",
    "</center>"
   ],
   "metadata": {
    "collapsed": false
   }
  },
  {
   "cell_type": "markdown",
   "source": [
    "<center>\n",
    "<h2 style=\"color:yellow;\">Principio de sustitución de Liskov</h2>\n",
    "</center>"
   ],
   "metadata": {
    "collapsed": false
   }
  },
  {
   "cell_type": "markdown",
   "source": [
    "El principio de sustitución de Liskov es un principio fundamental de la programación orientada a objetos que establece que los objetos de una clase derivada deben poder ser sustituidos por objetos de su clase base sin alterar la integridad del programa. Fue formulado por Barbara Liskov en 1987 y es un componente clave del diseño de interfaces y herencia en la programación orientada a objetos.\n",
    "\n",
    "El principio de sustitución de Liskov se puede resumir en la siguiente afirmación:\n",
    "\n",
    "\"Si S es un subtipo de T, entonces los objetos de tipo T en un programa pueden ser reemplazados por objetos de tipo S sin alterar la corrección del programa\".\n",
    "\n",
    "Al seguir el principio de sustitución de Liskov, se promueve un diseño sólido y coherente en la programación orientada a objetos, lo que facilita la extensibilidad, el mantenimiento y la reutilización del código."
   ],
   "metadata": {
    "collapsed": false
   }
  },
  {
   "cell_type": "code",
   "execution_count": null,
   "outputs": [],
   "source": [
    "class Persona:\n",
    "    def __init__(self, nombre, edad):\n",
    "        self.nombre = nombre\n",
    "        self.edad = edad\n",
    "\n",
    "    def obtener_detalles(self):\n",
    "        return f\"Nombre: {self.nombre}, Edad: {self.edad}\"\n",
    "\n",
    "class Estudiante(Persona):\n",
    "    def __init__(self, nombre, edad, codigo_estudiante):\n",
    "        super().__init__(nombre, edad)\n",
    "        self.codigo_estudiante = codigo_estudiante\n",
    "\n",
    "    def obtener_detalles(self):\n",
    "        return f\"Nombre: {self.nombre}, Edad: {self.edad}, Código de Estudiante: {self.codigo_estudiante}\"\n",
    "\n",
    "class Empleado(Persona):\n",
    "    def __init__(self, nombre, edad, codigo_empleado):\n",
    "        super().__init__(nombre, edad)\n",
    "        self.codigo_empleado = codigo_empleado\n",
    "\n",
    "    def obtener_detalles(self):\n",
    "        return f\"Nombre: {self.nombre}, Edad: {self.edad}, Código de Empleado: {self.codigo_empleado}\"\n",
    "\n",
    "def imprimir_detalles_persona(persona):\n",
    "    print(persona.obtener_detalles())\n",
    "\n",
    "# Utilizando el principio de sustitución de Liskov\n",
    "persona1 = Persona(\"Juan Pérez\", 30)\n",
    "persona2 = Estudiante(\"María Gómez\", 20, \"S12345\")\n",
    "persona3 = Empleado(\"Pedro López\", 45, \"E98765\")\n",
    "\n",
    "imprimir_detalles_persona(persona1)\n",
    "imprimir_detalles_persona(persona2)\n",
    "imprimir_detalles_persona(persona3)"
   ],
   "metadata": {
    "collapsed": false
   }
  },
  {
   "cell_type": "markdown",
   "source": [
    "<center>\n",
    "<h2 style=\"color:yellow;\">Principio de responsabilidad única</h2>\n",
    "</center>"
   ],
   "metadata": {
    "collapsed": false
   }
  },
  {
   "cell_type": "markdown",
   "source": [
    "<p>Es un principio de diseño de software que establece que una clase o módulo debe tener una única responsabilidad o motivo para cambiar. Fue acuñado por Robert C. Martin y es uno de los principios fundamentales del diseño de software sólido.\n",
    "\n",
    "Esto sugiere que cada clase o módulo debe tener una única responsabilidad y que esa responsabilidad debe estar completamente encapsulada en esa clase o módulo. Esto implica que la clase o módulo debe tener un único motivo para cambiar, es decir, solo debe haber una razón válida por la cual podría ser necesario modificarlo."
   ],
   "metadata": {
    "collapsed": false
   }
  },
  {
   "cell_type": "code",
   "execution_count": null,
   "outputs": [],
   "source": [
    "class Calculadora:\n",
    "    def sumar(self, a, b):\n",
    "        return a + b\n",
    "\n",
    "    def restar(self, a, b):\n",
    "        return a - b\n",
    "\n",
    "    def multiplicar(self, a, b):\n",
    "        return a * b\n",
    "\n",
    "    def dividir(self, a, b):\n",
    "        if b != 0:\n",
    "            return a / b\n",
    "        else:\n",
    "            raise ValueError(\"No se puede dividir entre cero.\")\n"
   ],
   "metadata": {
    "collapsed": false
   }
  },
  {
   "cell_type": "markdown",
   "source": [
    "<center>\n",
    "<h2 style=\"color:yellow;\">Principio de inversión de dependencia</h2>\n",
    "</center>"
   ],
   "metadata": {
    "collapsed": false
   }
  },
  {
   "cell_type": "markdown",
   "source": [
    "Es un principio del diseño de software que establece que los módulos de alto nivel no deben depender directamente de los módulos de bajo nivel. En cambio, ambos deben depender de abstracciones.\n",
    "\n",
    "Este principio fue propuesto por Robert C. Martin como parte de los principios SOLID y se basa en la idea de que las abstracciones deben depender de abstracciones, y no de implementaciones concretas. El principio de inversión de dependencia tiene como objetivo reducir el acoplamiento entre módulos y facilitar la extensibilidad y la flexibilidad del sistema."
   ],
   "metadata": {
    "collapsed": false
   }
  },
  {
   "cell_type": "code",
   "execution_count": null,
   "outputs": [],
   "source": [
    "class Motor:\n",
    "    def encender(self):\n",
    "        print(\"Motor encendido\")\n",
    "\n",
    "    def apagar(self):\n",
    "        print(\"Motor apagado\")\n",
    "\n",
    "class Automovil:\n",
    "    def __init__(self, motor):\n",
    "        self.motor = motor\n",
    "\n",
    "    def encender_automovil(self):\n",
    "        self.motor.encender()\n",
    "\n",
    "    def apagar_automovil(self):\n",
    "        self.motor.apagar()"
   ],
   "metadata": {
    "collapsed": false
   }
  },
  {
   "cell_type": "markdown",
   "source": [
    "<center>\n",
    "<h1>MODULO 5. PATRONES DE DISEÑO Y METODOS ESPECIALES</h1>\n",
    "</center>"
   ],
   "metadata": {
    "collapsed": false
   }
  },
  {
   "cell_type": "markdown",
   "source": [
    "<center>\n",
    "<h2 style=\"color:yellow;\">Sobrecarga de métodos</h2>\n",
    "</center>\n",
    "\n",
    "<h3 style=\"color:red;\">Sobrecarga de métodos: </h3><p>Hace referencia a la capacidad de una clase de tener varios métodos con el mismo nombre pero con diferentes parametros. <strong>Python NO permite la sobrecarga de métodos basada únicamente en la firma del método (tipo y cantidad de parámetros).</strong></p>"
   ],
   "metadata": {
    "collapsed": false
   }
  },
  {
   "cell_type": "code",
   "execution_count": 27,
   "outputs": [
    {
     "ename": "TypeError",
     "evalue": "Calculadora.sumar() missing 1 required positional argument: 'c'",
     "output_type": "error",
     "traceback": [
      "\u001B[0;31m---------------------------------------------------------------------------\u001B[0m",
      "\u001B[0;31mTypeError\u001B[0m                                 Traceback (most recent call last)",
      "Cell \u001B[0;32mIn[27], line 14\u001B[0m\n\u001B[1;32m     11\u001B[0m calculadora \u001B[38;5;241m=\u001B[39m Calculadora()\n\u001B[1;32m     13\u001B[0m \u001B[38;5;66;03m# Llamar a los métodos con diferentes argumentos\u001B[39;00m\n\u001B[0;32m---> 14\u001B[0m resultado1 \u001B[38;5;241m=\u001B[39m \u001B[43mcalculadora\u001B[49m\u001B[38;5;241;43m.\u001B[39;49m\u001B[43msumar\u001B[49m\u001B[43m(\u001B[49m\u001B[38;5;241;43m2\u001B[39;49m\u001B[43m,\u001B[49m\u001B[43m \u001B[49m\u001B[38;5;241;43m3\u001B[39;49m\u001B[43m)\u001B[49m  \u001B[38;5;66;03m# Utiliza el primer método sumar()\u001B[39;00m\n\u001B[1;32m     15\u001B[0m resultado2 \u001B[38;5;241m=\u001B[39m calculadora\u001B[38;5;241m.\u001B[39msumar(\u001B[38;5;241m2\u001B[39m, \u001B[38;5;241m3\u001B[39m, \u001B[38;5;241m4\u001B[39m)  \u001B[38;5;66;03m# Utiliza el segundo método sumar()\u001B[39;00m\n\u001B[1;32m     16\u001B[0m \u001B[38;5;28mprint\u001B[39m(resultado1)\n",
      "\u001B[0;31mTypeError\u001B[0m: Calculadora.sumar() missing 1 required positional argument: 'c'"
     ]
    }
   ],
   "source": [
    "# Ejemplo sobrecarga de métodos\n",
    "\n",
    "class Calculadora:\n",
    "    def sumar(self, a, b):\n",
    "        return a + b\n",
    "\n",
    "    def sumar(self, a, b, c):\n",
    "        return a + b + c\n",
    "\n",
    "# Crear objeto de la clase Calculadora\n",
    "calculadora = Calculadora()\n",
    "\n",
    "# Llamar a los métodos con diferentes argumentos\n",
    "resultado1 = calculadora.sumar(2, 3)  # Utiliza el primer método sumar()\n",
    "resultado2 = calculadora.sumar(2, 3, 4)  # Utiliza el segundo método sumar()\n",
    "print(resultado1)\n",
    "print(resultado2)"
   ],
   "metadata": {
    "collapsed": false,
    "ExecuteTime": {
     "end_time": "2023-06-12T04:06:57.375402652Z",
     "start_time": "2023-06-12T04:06:57.329429664Z"
    }
   }
  },
  {
   "cell_type": "markdown",
   "source": [
    "<center>\n",
    "<h2 style=\"color:yellow;\">Reutilización de código</h2>\n",
    "</center>"
   ],
   "metadata": {
    "collapsed": false
   }
  },
  {
   "cell_type": "code",
   "execution_count": null,
   "outputs": [],
   "source": [
    "# Ejemplo de reutilización de código\n",
    "\n",
    "# Módulo: operaciones.py\n",
    "def sumar(a, b):\n",
    "    return a + b\n",
    "\n",
    "def restar(a, b):\n",
    "    return a - b\n",
    "\n",
    "# Otro módulo\n",
    "from operaciones import sumar, restar\n",
    "\n",
    "resultado1 = sumar(5, 3)\n",
    "resultado2 = restar(8, 2)"
   ],
   "metadata": {
    "collapsed": false
   }
  },
  {
   "cell_type": "markdown",
   "source": [
    "<center>\n",
    "<h2 style=\"color:yellow;\">Métodos especiales y operadores sobrecargados</h2>\n",
    "</center>\n",
    "\n",
    "<p>Estos métodos están definidos por Python y le permiten a las clases definir el comportamiento de operadores y funcionalidades específicas. Estos métodos se identifican ya que empiezan y terminan por \"__\" (doble guion bajo). </p>\n",
    "\n",
    "<p>Los métodos especiales más comunes son utilizados para sobrecargar operadores y proporcionar comportamientos personalizados para objetos. Al sobrecargar estos operadores, las clases pueden definir cómo se realizan las operaciones comunes en los objetos de esa clase.</p>"
   ],
   "metadata": {
    "collapsed": false
   }
  },
  {
   "cell_type": "code",
   "execution_count": 2,
   "outputs": [
    {
     "name": "stdout",
     "output_type": "stream",
     "text": [
      "Nombre: Miguel, Edad: 25\n",
      "7 10\n"
     ]
    }
   ],
   "source": [
    "\"\"\"\n",
    "Método \"__init__\":\n",
    "                    Se utiliza para inicializar un objeto cuando se crea una nueva instancia de una clase.\n",
    "\"\"\"\n",
    "\n",
    "class Persona:\n",
    "    def __init__(self, nombre, edad):\n",
    "        self.nombre = nombre\n",
    "        self.edad = edad\n",
    "\n",
    "# Crear un objeto de la clase Persona\n",
    "persona = Persona(\"Miguel\", 25)\n",
    "\n",
    "\n",
    "\"\"\"\n",
    "Método \"__str__\":\n",
    "                    Se utiliza para proporcionar una representación en forma de cadena (string) legible del objeto.\n",
    "\"\"\"\n",
    "\n",
    "class Persona:\n",
    "    def __init__(self, nombre, edad):\n",
    "        self.nombre = nombre\n",
    "        self.edad = edad\n",
    "\n",
    "    def __str__(self):\n",
    "        return f\"Nombre: {self.nombre}, Edad: {self.edad}\"\n",
    "\n",
    "# Crear un objeto de la clase Persona\n",
    "persona = Persona(\"Miguel\", 25)\n",
    "print(persona)\n",
    "\n",
    "\"\"\"\n",
    "Método \"__add__\":\n",
    "                    Este método se utiliza para sobrecargar el operador de suma (+) y definir la suma de dos objetos.\n",
    "\"\"\"\n",
    "\n",
    "class Punto:\n",
    "    def __init__(self, x, y):\n",
    "        self.x = x\n",
    "        self.y = y\n",
    "\n",
    "    def __add__(self, otro_punto):\n",
    "        nuevo_x = self.x + otro_punto.x\n",
    "        nuevo_y = self.y + otro_punto.y\n",
    "        return Punto(nuevo_x, nuevo_y)\n",
    "\n",
    "# Crear dos objetos de la clase Punto\n",
    "punto1 = Punto(2, 3)\n",
    "punto2 = Punto(5, 7)\n",
    "\n",
    "# Sumar los dos puntos\n",
    "resultado = punto1 + punto2\n",
    "print(resultado.x, resultado.y)"
   ],
   "metadata": {
    "collapsed": false,
    "ExecuteTime": {
     "end_time": "2023-06-13T22:01:14.068519727Z",
     "start_time": "2023-06-13T22:01:13.924366755Z"
    }
   }
  },
  {
   "cell_type": "code",
   "execution_count": 3,
   "outputs": [
    {
     "name": "stdout",
     "output_type": "stream",
     "text": [
      "Salida del método '__len__'\n",
      "5\n",
      "Salida del Método '__getitem__'\n",
      "3\n",
      "Salida del método '__eq__'\n",
      "True\n",
      "False\n",
      "Salida del Método '__cal__'\n",
      "Hola, Miguel!\n"
     ]
    }
   ],
   "source": [
    "\"\"\"\n",
    "Otros metodos especiales y operadores\n",
    "\"\"\"\n",
    "\n",
    "\"\"\"\n",
    "Método \"__len__\":\n",
    "                    Se implementa para sobrecargar la función len() y obtener la longitud de un objeto.\n",
    "\"\"\"\n",
    "\n",
    "class Lista:\n",
    "    def __init__(self, elementos):\n",
    "        self.elementos = elementos\n",
    "\n",
    "    def __len__(self):\n",
    "        return len(self.elementos)\n",
    "lista = Lista([1, 2, 3, 4, 5])\n",
    "print(\"Salida del método '__len__'\")\n",
    "print(len(lista))\n",
    "\n",
    "\n",
    "\"\"\"\n",
    "Método \"__getitem__\":\n",
    "                        Se implementa para sobrecargar el operador de indexación '[]' y acceder al elemento de un objeto como\n",
    "                        si fuera una lista o diccionario.\n",
    "\"\"\"\n",
    "\n",
    "class MiLista:\n",
    "    def __init__(self, elementos):\n",
    "        self.elementos = elementos\n",
    "\n",
    "    def __getitem__(self, index):\n",
    "        return self.elementos[index]\n",
    "\n",
    "lista = MiLista([1, 2, 3, 4, 5])\n",
    "print(\"Salida del Método '__getitem__'\")\n",
    "print(lista[2])\n",
    "\n",
    "\"\"\"\n",
    "Método \"__eq__\":\n",
    "                    Se implementa para sobrecargar el operador de igualdad '==' y definir como se comparan dos objetos\n",
    "                    para determinar si son iguales.\n",
    "\"\"\"\n",
    "\n",
    "class Punto:\n",
    "    def __init__(self, x, y):\n",
    "        self.x = x\n",
    "        self.y = y\n",
    "\n",
    "    def __eq__(self, otro_punto):\n",
    "        return self.x == otro_punto.x and self.y == otro_punto.y\n",
    "\n",
    "punto1 = Punto(2, 3)\n",
    "punto2 = Punto(2, 3)\n",
    "punto3 = Punto(4, 5)\n",
    "print(\"Salida del método '__eq__'\")\n",
    "print(punto1 == punto2)\n",
    "print(punto1 == punto3)\n",
    "\n",
    "\n",
    "\"\"\"\n",
    "Método \"__call__\":\n",
    "                    Se implementa para hacer que un objeto sea callable, es decir, se puede invocar como si fuera una función\n",
    "\"\"\"\n",
    "\n",
    "class Saludo:\n",
    "    def __call__(self, nombre):\n",
    "        print(f\"Hola, {nombre}!\")\n",
    "\n",
    "saludo = Saludo()\n",
    "print(\"Salida del Método '__cal__'\")\n",
    "saludo(\"Miguel\")"
   ],
   "metadata": {
    "collapsed": false,
    "ExecuteTime": {
     "end_time": "2023-06-13T22:11:32.031731281Z",
     "start_time": "2023-06-13T22:11:31.959360896Z"
    }
   }
  },
  {
   "cell_type": "markdown",
   "source": [
    "<center>\n",
    "<h2 style=\"color:yellow;\">Patrón de diseño Singleton</h2>\n",
    "</center>"
   ],
   "metadata": {
    "collapsed": false
   }
  },
  {
   "cell_type": "code",
   "execution_count": null,
   "outputs": [],
   "source": [
    "class Gobierno:\n",
    "    _instance = None\n",
    "\n",
    "    def __new__(cls):\n",
    "        if not cls._instance:\n",
    "            cls._instance = super().__new__(cls)\n",
    "        return cls._instance\n",
    "\n",
    "    def asignar_presidente(self, nombre):\n",
    "        print(\"Asignando presidente:\", nombre)\n",
    "\n",
    "    def emitir_decreto(self, texto):\n",
    "        print(\"Emitiendo decreto:\", texto)\n",
    "\n",
    "# Obtener la instancia del Gobierno\n",
    "gobierno = Gobierno()\n",
    "\n",
    "# Asignar presidente\n",
    "gobierno.asignar_presidente(\"John Doe\")\n",
    "\n",
    "# Emitir decreto\n",
    "gobierno.emitir_decreto(\"Se establecen nuevas políticas económicas\")"
   ],
   "metadata": {
    "collapsed": false,
    "is_executing": true
   }
  },
  {
   "cell_type": "markdown",
   "source": [
    "<center>\n",
    "<h2 style=\"color:yellow;\">Patrón de diseño Observer</h2>\n",
    "</center>"
   ],
   "metadata": {
    "collapsed": false
   }
  },
  {
   "cell_type": "code",
   "execution_count": null,
   "outputs": [],
   "source": [
    "class Periodico:\n",
    "    def __init__(self):\n",
    "        self.suscriptores = []\n",
    "\n",
    "    def suscribir(self, suscriptor):\n",
    "        self.suscriptores.append(suscriptor)\n",
    "\n",
    "    def desuscribir(self, suscriptor):\n",
    "        self.suscriptores.remove(suscriptor)\n",
    "\n",
    "    def publicar_noticia(self, noticia):\n",
    "        print(\"Nueva noticia publicada:\", noticia)\n",
    "        self.notificar_suscriptores(noticia)\n",
    "\n",
    "    def notificar_suscriptores(self, noticia):\n",
    "        for suscriptor in self.suscriptores:\n",
    "            suscriptor.actualizar(noticia)\n",
    "\n",
    "\n",
    "class Suscriptor:\n",
    "    def __init__(self, nombre):\n",
    "        self.nombre = nombre\n",
    "\n",
    "    def actualizar(self, noticia):\n",
    "        print(f\"{self.nombre} recibió la noticia:\", noticia)\n",
    "\n",
    "\n",
    "# Crear un periódico\n",
    "periodico = Periodico()\n",
    "\n",
    "# Crear suscriptores\n",
    "suscriptor1 = Suscriptor(\"Juan\")\n",
    "suscriptor2 = Suscriptor(\"Miguel\")\n",
    "suscriptor3 = Suscriptor(\"Maria\")\n",
    "\n",
    "# Suscribir los suscriptores al periódico\n",
    "periodico.suscribir(suscriptor1)\n",
    "periodico.suscribir(suscriptor2)\n",
    "periodico.suscribir(suscriptor3)\n",
    "\n",
    "# Publicar una noticia en el periódico\n",
    "periodico.publicar_noticia(\"¡Nuevo curso disponible en ApruebaXtreme!\")\n",
    "\n",
    "# Desuscribir un suscriptor\n",
    "periodico.desuscribir(suscriptor2)\n",
    "\n",
    "# Publicar otra noticia en el periódico\n",
    "periodico.publicar_noticia(\"¡Actualización importante!\")\n",
    "\n"
   ],
   "metadata": {
    "collapsed": false
   }
  },
  {
   "cell_type": "markdown",
   "source": [
    "<center>\n",
    "<h2 style=\"color:yellow;\">Patrón de diseño Factory</h2>\n",
    "</center>"
   ],
   "metadata": {
    "collapsed": false
   }
  },
  {
   "cell_type": "code",
   "execution_count": null,
   "outputs": [],
   "source": [
    "class Transporte:\n",
    "    def entregar(self):\n",
    "        pass\n",
    "\n",
    "class Camion(Transporte):\n",
    "    def entregar(self):\n",
    "        print(\"Entrega realizada por camión\")\n",
    "\n",
    "class Barco(Transporte):\n",
    "    def entregar(self):\n",
    "        print(\"Entrega realizada por barco\")\n",
    "\n",
    "class Avion(Transporte):\n",
    "    def entregar(self):\n",
    "        print(\"Entrega realizada por avión\")\n",
    "\n",
    "class EmpresaLogistica:\n",
    "    def crear_transporte(self, tipo):\n",
    "        if tipo == \"camion\":\n",
    "            return Camion()\n",
    "        elif tipo == \"barco\":\n",
    "            return Barco()\n",
    "        elif tipo == \"avion\":\n",
    "            return Avion()\n",
    "        else:\n",
    "            raise ValueError(\"Tipo de transporte no válido\")\n",
    "\n",
    "# Crear la empresa de logística\n",
    "empresa_logistica = EmpresaLogistica()\n",
    "\n",
    "# Crear un camión\n",
    "camion = empresa_logistica.crear_transporte(\"camion\")\n",
    "camion.entregar()\n",
    "\n",
    "# Crear un barco\n",
    "barco = empresa_logistica.crear_transporte(\"barco\")\n",
    "barco.entregar()\n",
    "\n",
    "# Crear un avión\n",
    "avion = empresa_logistica.crear_transporte(\"avion\")\n",
    "avion.entregar()\n"
   ],
   "metadata": {
    "collapsed": false
   }
  },
  {
   "cell_type": "markdown",
   "source": [
    "<center>\n",
    "<h2 style=\"color:yellow;\">Patrón de diseño Strategy</h2>\n",
    "</center>"
   ],
   "metadata": {
    "collapsed": false
   }
  },
  {
   "cell_type": "code",
   "execution_count": null,
   "outputs": [],
   "source": [
    "class EstrategiaTransporte:\n",
    "    def llegar_al_aeropuerto(self):\n",
    "        pass\n",
    "\n",
    "class EstrategiaAutobus(EstrategiaTransporte):\n",
    "    def llegar_al_aeropuerto(self):\n",
    "        print(\"Tomando el autobús para llegar al aeropuerto\")\n",
    "\n",
    "class EstrategiaTaxi(EstrategiaTransporte):\n",
    "    def llegar_al_aeropuerto(self):\n",
    "        print(\"Tomando un taxi para llegar al aeropuerto\")\n",
    "\n",
    "class EstrategiaBicicleta(EstrategiaTransporte):\n",
    "    def llegar_al_aeropuerto(self):\n",
    "        print(\"Yendo en bicicleta para llegar al aeropuerto\")\n",
    "\n",
    "class Viajero:\n",
    "    def __init__(self, estrategia):\n",
    "        self.estrategia = estrategia\n",
    "\n",
    "    def cambiar_estrategia(self, estrategia):\n",
    "        self.estrategia = estrategia\n",
    "\n",
    "    def llegar_al_aeropuerto(self):\n",
    "        self.estrategia.llegar_al_aeropuerto()\n",
    "\n",
    "# Crear un viajero\n",
    "viajero = Viajero(EstrategiaAutobus())\n",
    "\n",
    "# Llegar al aeropuerto\n",
    "viajero.llegar_al_aeropuerto()\n",
    "\n",
    "# Cambiar a la estrategia de taxi\n",
    "viajero.cambiar_estrategia(EstrategiaTaxi())\n",
    "viajero.llegar_al_aeropuerto()\n",
    "\n",
    "# Cambiar a la estrategia de bicicleta\n",
    "viajero.cambiar_estrategia(EstrategiaBicicleta())\n",
    "viajero.llegar_al_aeropuerto()"
   ],
   "metadata": {
    "collapsed": false
   }
  },
  {
   "cell_type": "markdown",
   "source": [
    "<center>\n",
    "<h1>MODULO 6. MANEJO DE EXCEPCIONES EN LA POO</h1>\n",
    "</center>"
   ],
   "metadata": {
    "collapsed": false
   }
  },
  {
   "cell_type": "markdown",
   "source": [
    "<center>\n",
    "<h2 style=\"color:yellow;\">Excepciones y errores</h2>\n",
    "</center>\n",
    "\n",
    "<h3 style=\"color:red\">Excepciones: </h3><p>Son eventos que ocurren durante la ejecución de un programa y pueden interrumpir el flujo normal de ejecución. Algunos más comunes son:\n",
    "\n",
    "* <h4>AttributeError: </h4>Se produce cuando se intenta acceder a un atributo o método que no existe en un objeto.\n",
    "* <h4>ValueError: </h4>Se produce cuando el valor de un argumento o variable no es válido.\n",
    "* <h4>TypeError: </h4>Se produce cuando se realiza una operación con operandos de tipos incompatibles.\n",
    "* <h4>KeyError: </h4>Se produce cuando se intenta acceder a una clave inexistente en un diccionario.\n",
    "* <h4>IndexError: </h4>Se produce cuando se intenta acceder a un índice fuera del rango válido en una lista o tupla.</p>\n",
    "\n",
    "<h3 style=\"color:red\">Errores: </h3><p>Los errores en la POO de Python son condiciones graves que ocurren durante la ejecución del programa y que no se pueden manejar fácilmente. Estos errores generalmente terminan la ejecución del programa y pueden requerir intervención manual para solucionarlos.</p>"
   ],
   "metadata": {
    "collapsed": false
   }
  },
  {
   "cell_type": "code",
   "execution_count": 4,
   "outputs": [
    {
     "name": "stdout",
     "output_type": "stream",
     "text": [
      "No se puede dividir por 0\n"
     ]
    }
   ],
   "source": [
    "try:\n",
    "    resultado = 5.0/0\n",
    "    print(resultado)\n",
    "except ZeroDivisionError:\n",
    "    print(\"No se puede dividir por 0\")"
   ],
   "metadata": {
    "collapsed": false,
    "ExecuteTime": {
     "end_time": "2023-06-13T22:24:37.081654959Z",
     "start_time": "2023-06-13T22:24:36.980994878Z"
    }
   }
  },
  {
   "cell_type": "code",
   "execution_count": 5,
   "outputs": [
    {
     "ename": "SyntaxError",
     "evalue": "expected ':' (4293240133.py, line 2)",
     "output_type": "error",
     "traceback": [
      "\u001B[0;36m  Cell \u001B[0;32mIn[5], line 2\u001B[0;36m\u001B[0m\n\u001B[0;31m    if x == 5\u001B[0m\n\u001B[0m             ^\u001B[0m\n\u001B[0;31mSyntaxError\u001B[0m\u001B[0;31m:\u001B[0m expected ':'\n"
     ]
    }
   ],
   "source": [
    "# Error de sintaxis\n",
    "if x == 5\n",
    "    print(\"El valor de x es 5\")\n"
   ],
   "metadata": {
    "collapsed": false,
    "ExecuteTime": {
     "end_time": "2023-06-13T22:25:05.801371320Z",
     "start_time": "2023-06-13T22:25:05.728052480Z"
    }
   }
  },
  {
   "cell_type": "markdown",
   "source": [
    "<center>\n",
    "<h2 style=\"color:yellow;\">Bloques try-except-finally</h2>\n",
    "</center>\n",
    "\n",
    "<p>son una construcción en Python que permite capturar y manejar excepciones. Estos bloques se utilizan para rodear el código que puede generar una excepción y proporcionar un mecanismo de manejo de errores más controlado. </p>\n",
    "\n",
    "<h4>try: </h4><p>En esta sección se coloca el código que se va a ejecutar y que puede generar una excepción.</p>\n",
    "<h4>except: </h4><p>En esta sección se capturan y manejan las excepciones específicas que pueden ser generadas en el bloque <strong>try</strong>. Puedes tener varios bloques except para manejar diferentes tipos de excepciones.</p>\n",
    "<h4>finally: </h4><p>Esta sección se ejecuta siempre, independientemente de si se generó una excepción o no. Se utiliza para realizar acciones que deben ocurrir sin importar el resultado del bloque <strong>try</strong>, como cerrar archivos o liberar recursos.</p>"
   ],
   "metadata": {
    "collapsed": false
   }
  },
  {
   "cell_type": "code",
   "execution_count": null,
   "outputs": [],
   "source": [
    "try:\n",
    "    # Código que puede generar una excepción\n",
    "except ExcepcionTipo1:\n",
    "    # Manejo de la excepción ExcepcionTipo1\n",
    "except ExcepcionTipo2:\n",
    "    # Manejo de la excepción ExcepcionTipo2\n",
    "finally:\n",
    "    # Código que siempre se ejecuta, independientemente de si se generó una excepción o no"
   ],
   "metadata": {
    "collapsed": false
   }
  },
  {
   "cell_type": "code",
   "execution_count": null,
   "outputs": [],
   "source": [
    "try:\n",
    "    archivo = open(\"datos.txt\", \"r\")\n",
    "    contenido = archivo.read()\n",
    "    print(contenido)\n",
    "except FileNotFoundError:\n",
    "    print(\"El archivo no existe\")\n",
    "finally:\n",
    "    if archivo:\n",
    "        archivo.close()"
   ],
   "metadata": {
    "collapsed": false
   }
  },
  {
   "cell_type": "markdown",
   "source": [
    "<center>\n",
    "<h2 style=\"color:yellow;\">Excepciones personalizadas</h2>\n",
    "</center>\n",
    "\n",
    "<p>Esto se logra mediante la creación de clases personalizadas que heredan de la clase base 'Exception' o de alguna de sus subclases."
   ],
   "metadata": {
    "collapsed": false
   }
  },
  {
   "cell_type": "code",
   "execution_count": 6,
   "outputs": [
    {
     "name": "stdout",
     "output_type": "stream",
     "text": [
      "División por cero no está permitida\n"
     ]
    }
   ],
   "source": [
    "class MiExcepcion(Exception):\n",
    "    pass\n",
    "\n",
    "class ValorFueraDeRangoError(Exception):\n",
    "    def __init__(self, valor, rango_min, rango_max):\n",
    "        self.valor = valor\n",
    "        self.rango_min = rango_min\n",
    "        self.rango_max = rango_max\n",
    "\n",
    "    def __str__(self):\n",
    "        return f\"El valor {self.valor} está fuera del rango permitido [{self.rango_min}, {self.rango_max}]\"\n",
    "\n",
    "def dividir(a, b):\n",
    "    if b == 0:\n",
    "        raise MiExcepcion(\"División por cero no está permitida\")\n",
    "    return a / b\n",
    "\n",
    "try:\n",
    "    resultado = dividir(10, 0)\n",
    "    print(resultado)\n",
    "except MiExcepcion as e:\n",
    "    print(e)"
   ],
   "metadata": {
    "collapsed": false,
    "ExecuteTime": {
     "end_time": "2023-06-13T22:26:07.280637842Z",
     "start_time": "2023-06-13T22:26:07.208063990Z"
    }
   }
  },
  {
   "cell_type": "markdown",
   "source": [
    "<center>\n",
    "<h1>MODULO 7. POO AVANZADA</h1>\n",
    "</center>"
   ],
   "metadata": {
    "collapsed": false
   }
  },
  {
   "cell_type": "markdown",
   "source": [
    "<center>\n",
    "<h2 style=\"color:yellow;\">Métodos estáticos y de clase</h2>\n",
    "</center>\n",
    "\n",
    "<h3 style=\"color:red;\">Métodos estáticos: </h3><p>Son métodos que no requieren acceder a instancias de la clase y no tienen acceso a los atributos o métodos de instancia. Se definen implementando '@staticmethod'.</p>\n",
    "\n",
    "\n",
    "<h3 style=\"color:red;\">Métodos de clase: </h3><p>Son métodos que operan en la misma clase en lugar de de operar en instancias individuales de la clase. Se definen implementando @classmethod.</p>"
   ],
   "metadata": {
    "collapsed": false
   }
  },
  {
   "cell_type": "code",
   "execution_count": 7,
   "outputs": [
    {
     "name": "stdout",
     "output_type": "stream",
     "text": [
      "Método Estático\n"
     ]
    }
   ],
   "source": [
    "# Ejemplo Método estático:\n",
    "\n",
    "class Clase:\n",
    "    @staticmethod\n",
    "    def met_static():\n",
    "        print(\"Método Estático\")\n",
    "\n",
    "Clase.met_static()"
   ],
   "metadata": {
    "collapsed": false,
    "ExecuteTime": {
     "end_time": "2023-06-13T22:45:29.757146058Z",
     "start_time": "2023-06-13T22:45:29.640128963Z"
    }
   }
  },
  {
   "cell_type": "code",
   "execution_count": 8,
   "outputs": [
    {
     "name": "stdout",
     "output_type": "stream",
     "text": [
      "Método de clase\n",
      "Valor del atributo\n"
     ]
    }
   ],
   "source": [
    "# Ejemplo Método de clase:\n",
    "\n",
    "class Clase:\n",
    "    valor = \"Valor del atributo\"\n",
    "\n",
    "    @classmethod\n",
    "    def metodo_clase(cls):\n",
    "        print(\"Método de clase\")\n",
    "        print(cls.valor)\n",
    "\n",
    "Clase.metodo_clase()"
   ],
   "metadata": {
    "collapsed": false,
    "ExecuteTime": {
     "end_time": "2023-06-13T22:47:08.327427330Z",
     "start_time": "2023-06-13T22:47:08.273019835Z"
    }
   }
  },
  {
   "cell_type": "markdown",
   "source": [
    "<center>\n",
    "<h2 style=\"color:yellow;\">Herencia múltiple y resolución de conflictos</h2>\n",
    "</center>\n",
    "<h3 style=\"color:red;\">Herencia múltiple: </h3><p>Hace referencia a un concepto que permite que una clase pueda heredar atributos y métodos de diferentes clases base. Sin embargo, pueden existir problemas debido a la presencia de métodos y/o atributos que contienen el mismo nombre en las clases base.</p><q>\n",
    "<h3 style=\"color:red;\">Resolución de conflictos: </h3><p>Hay dos enfoques comunes para resolver este tipo de conflictos de herencia multiple:</p>\n",
    "\n",
    "<h4 style=\"color:blue;\">Prioridad de declaración: </h4><p>En este caso, el orden en el que se declaran las clases base en la definición de la clase derivada determina la prioridad de resolución del conflicto.</p>\n",
    "<h4 style=\"color:blue;\">Resolución explícita: </h4><p>Si es necesario controlar explícitamente qué método o atributo se utilizará en caso de conflicto, se puede acceder a los métodos o atributos de las clases base utilizando el nombre completo de la clase base o mediante el uso de la función 'super()'.</p>"
   ],
   "metadata": {
    "collapsed": false
   }
  },
  {
   "cell_type": "code",
   "execution_count": 1,
   "outputs": [
    {
     "name": "stdout",
     "output_type": "stream",
     "text": [
      "Método de ClaseBase1\n"
     ]
    }
   ],
   "source": [
    "# Ejemplo de prioridad de declaración\n",
    "class ClaseBase1:\n",
    "    def metodo(self):\n",
    "        print(\"Método de ClaseBase1\")\n",
    "\n",
    "class ClaseBase2:\n",
    "    def metodo(self):\n",
    "        print(\"Método de ClaseBase2\")\n",
    "\n",
    "class ClaseDerivada(ClaseBase1, ClaseBase2):\n",
    "    pass\n",
    "\n",
    "objeto = ClaseDerivada()\n",
    "objeto.metodo()"
   ],
   "metadata": {
    "collapsed": false,
    "ExecuteTime": {
     "end_time": "2023-06-14T00:03:57.479853651Z",
     "start_time": "2023-06-14T00:03:57.437519669Z"
    }
   }
  },
  {
   "cell_type": "code",
   "execution_count": 3,
   "outputs": [
    {
     "name": "stdout",
     "output_type": "stream",
     "text": [
      "Método de ClaseBase1\n",
      "Método de ClaseBase2\n"
     ]
    }
   ],
   "source": [
    "# Ejemplo de resolución explícita\n",
    "\n",
    "class ClaseBase1:\n",
    "    def metodo(self):\n",
    "        print(\"Método de ClaseBase1\")\n",
    "\n",
    "class ClaseBase2:\n",
    "    def metodo(self):\n",
    "        print(\"Método de ClaseBase2\")\n",
    "\n",
    "class ClaseDerivada(ClaseBase1, ClaseBase2):\n",
    "    def metodo(self):\n",
    "        ClaseBase1.metodo(self)\n",
    "        ClaseBase2.metodo(self)\n",
    "\n",
    "objeto = ClaseDerivada()\n",
    "objeto.metodo()"
   ],
   "metadata": {
    "collapsed": false,
    "ExecuteTime": {
     "end_time": "2023-06-14T00:05:44.040289025Z",
     "start_time": "2023-06-14T00:05:43.938981122Z"
    }
   }
  },
  {
   "cell_type": "markdown",
   "source": [
    "<center>\n",
    "<h2 style=\"color:yellow;\">Mixins y clases abstractas concretas</h2>\n",
    "</center>\n",
    "\n",
    "<h3 style=\"color:red;\">Mixins: </h3><p>Un mixin es una clase que proporciona funcionalidades adicionales que pueden ser agregadas a otras clases mediante herencia múltiple. A diferencia de las clases base, los mixins no están destinados a ser instanciados por sí mismos, sino que se utilizan para agregar funcionalidades específicas a otras clases. Los mixins suelen contener métodos y atributos que pueden ser compartidos por diferentes clases para evitar la duplicación de código.</p>\n",
    "<h3 style=\"color:red;\">Clases abstractas concretas: </h3><p>Una clase abstracta concreta es una clase que hereda de una clase abstracta y proporciona implementaciones concretas para los métodos abstractos definidos en la clase base. Una clase abstracta es una clase que contiene uno o más métodos abstractos, que son métodos que se definen en la clase base pero no se implementan. Estas clases abstractas actúan como plantillas o interfaces que definen un conjunto de métodos que las clases derivadas deben implementar.</p>"
   ],
   "metadata": {
    "collapsed": false
   }
  },
  {
   "cell_type": "code",
   "execution_count": 2,
   "outputs": [
    {
     "name": "stdout",
     "output_type": "stream",
     "text": [
      "Log: Ejecutando my_method\n"
     ]
    }
   ],
   "source": [
    "# Ejemplo de Mixins\n",
    "\n",
    "class LoggerMixin:\n",
    "    def log(self, message):\n",
    "        print(f\"Log: {message}\")\n",
    "\n",
    "class MyClass(LoggerMixin):\n",
    "    def my_method(self):\n",
    "        self.log(\"Ejecutando my_method\")\n",
    "\n",
    "obj = MyClass()\n",
    "obj.my_method()  # Imprime \"Log: Ejecutando my_method\"\n"
   ],
   "metadata": {
    "collapsed": false,
    "ExecuteTime": {
     "end_time": "2023-06-14T00:04:01.563625561Z",
     "start_time": "2023-06-14T00:04:01.486194389Z"
    }
   }
  },
  {
   "cell_type": "code",
   "execution_count": 4,
   "outputs": [
    {
     "name": "stdout",
     "output_type": "stream",
     "text": [
      "Implementación de abstract_method\n"
     ]
    }
   ],
   "source": [
    "# Ejemplo de clases abstractas concretas\n",
    "\n",
    "from abc import ABC, abstractmethod\n",
    "\n",
    "class AbstractClass(ABC):\n",
    "    @abstractmethod\n",
    "    def abstract_method(self):\n",
    "        pass\n",
    "\n",
    "class ConcreteClass(AbstractClass):\n",
    "    def abstract_method(self):\n",
    "        print(\"Implementación de abstract_method\")\n",
    "\n",
    "obj = ConcreteClass()\n",
    "obj.abstract_method()\n"
   ],
   "metadata": {
    "collapsed": false,
    "ExecuteTime": {
     "end_time": "2023-06-14T00:06:47.070512718Z",
     "start_time": "2023-06-14T00:06:46.930909272Z"
    }
   }
  },
  {
   "cell_type": "markdown",
   "source": [
    "<center>\n",
    "<h2 style=\"color:yellow;\">Metaclases y reflexión en Python</h2>\n",
    "</center>\n",
    "\n",
    "<h3 style=\"color:red;\">Metaclases: </h3><p>Una metaclase es una clase cuyas instancias son clases. Es decir, una metaclase define el comportamiento y la estructura de otras clases. En Python, puedes crear tus propias metaclases utilizando la sintaxis de la palabra clave metaclass al definir una clase.</p>\n",
    "<h3 style=\"color:red;\">Reflexión: </h3><p>La reflexión se refiere a la capacidad de un programa para examinar, analizar y modificar su propia estructura y comportamiento en tiempo de ejecución. En Python, la reflexión se puede lograr utilizando funciones y atributos especiales que proporciona el lenguaje.</p>"
   ],
   "metadata": {
    "collapsed": false
   }
  },
  {
   "cell_type": "code",
   "execution_count": 5,
   "outputs": [
    {
     "name": "stdout",
     "output_type": "stream",
     "text": [
      "Método existente\n",
      "¡Soy un nuevo método!\n"
     ]
    }
   ],
   "source": [
    "# Ejemplo de Metaclase\n",
    "\n",
    "class Metaclase(type):\n",
    "    def __new__(cls, name, bases, attrs):\n",
    "        attrs[\"nuevo_metodo\"] = lambda self: print(\"¡Soy un nuevo método!\")\n",
    "        return super().__new__(cls, name, bases, attrs)\n",
    "\n",
    "class MiClase(metaclass=Metaclase):\n",
    "    def metodo_existente(self):\n",
    "        print(\"Método existente\")\n",
    "\n",
    "obj = MiClase()\n",
    "obj.metodo_existente()\n",
    "obj.nuevo_metodo()"
   ],
   "metadata": {
    "collapsed": false,
    "ExecuteTime": {
     "end_time": "2023-06-14T00:08:08.635547708Z",
     "start_time": "2023-06-14T00:08:08.497349946Z"
    }
   }
  },
  {
   "cell_type": "markdown",
   "source": [],
   "metadata": {
    "collapsed": false
   }
  },
  {
   "cell_type": "code",
   "execution_count": 6,
   "outputs": [
    {
     "name": "stdout",
     "output_type": "stream",
     "text": [
      "['__class__', '__delattr__', '__dict__', '__dir__', '__doc__', '__eq__', '__format__', '__ge__', '__getattribute__', '__gt__', '__hash__', '__init__', '__init_subclass__', '__le__', '__lt__', '__module__', '__ne__', '__new__', '__reduce__', '__reduce_ex__', '__repr__', '__setattr__', '__sizeof__', '__str__', '__subclasshook__', '__weakref__', 'valor']\n",
      "True\n",
      "10\n"
     ]
    }
   ],
   "source": [
    "# Ejemplo de Refrlexion\n",
    "\n",
    "class MiClase:\n",
    "    def __init__(self):\n",
    "        self.valor = 10\n",
    "\n",
    "obj = MiClase()\n",
    "\n",
    "print(dir(obj))\n",
    "print(hasattr(obj, 'valor'))\n",
    "print(getattr(obj, 'valor'))\n"
   ],
   "metadata": {
    "collapsed": false,
    "ExecuteTime": {
     "end_time": "2023-06-14T00:08:39.534707992Z",
     "start_time": "2023-06-14T00:08:39.433608944Z"
    }
   }
  }
 ],
 "metadata": {
  "kernelspec": {
   "display_name": "Python 3",
   "language": "python",
   "name": "python3"
  },
  "language_info": {
   "codemirror_mode": {
    "name": "ipython",
    "version": 2
   },
   "file_extension": ".py",
   "mimetype": "text/x-python",
   "name": "python",
   "nbconvert_exporter": "python",
   "pygments_lexer": "ipython2",
   "version": "2.7.6"
  }
 },
 "nbformat": 4,
 "nbformat_minor": 0
}
